{
 "cells": [
  {
   "cell_type": "markdown",
   "id": "dfa3d5e0",
   "metadata": {},
   "source": [
    "<h1 style=\"color: #001a79;\">Weekly Exercises - 01 Statistics</h1>\n",
    "\n",
    "<hr style=\"border-top: 1px solid #001a79;\" />"
   ]
  },
  {
   "cell_type": "markdown",
   "id": "9bde4475",
   "metadata": {},
   "source": [
    "<h3 style=\"color: #001a79;\">Exercise 1.1</h3>\n",
    "\n",
    "<hr style=\"border-top: 1px solid #001a79;\" />\n",
    "\n",
    "__Task:__\n",
    "<br>\n",
    "\n",
    "- The above gives about a 1.4% chance of randomly selecting the correct cups. Calculate the minimum number of cups of tea required to ensure the probability of randomly selecting the correct cups is less than or equal to 1%."
   ]
  },
  {
   "cell_type": "markdown",
   "id": "f55843bb",
   "metadata": {},
   "source": [
    "The following code is adapted from:  https://stackoverflow.com/a/4941932"
   ]
  },
  {
   "cell_type": "markdown",
   "id": "681cc308",
   "metadata": {},
   "source": [
    "Python version 3.8 includes a new method which [geeksforgeeks](https://www.geeksforgeeks.org/python-math-comb-method/) explains can be used to return the number of ways to choose k items from n items. This method works without repetition and without order.\n",
    "<br><br>\n",
    "*Syntax: math.comb(n, k)*"
   ]
  },
  {
   "cell_type": "code",
   "execution_count": 1,
   "id": "ce922631",
   "metadata": {},
   "outputs": [],
   "source": [
    "# Math module.\n",
    "import math"
   ]
  },
  {
   "cell_type": "code",
   "execution_count": 2,
   "id": "6c222154",
   "metadata": {},
   "outputs": [
    {
     "data": {
      "text/plain": [
       "70"
      ]
     },
     "execution_count": 2,
     "metadata": {},
     "output_type": "execute_result"
    }
   ],
   "source": [
    "# Number of ways of selecting 4 cups from 8.\n",
    "math.comb(8, 4)"
   ]
  },
  {
   "cell_type": "code",
   "execution_count": 3,
   "id": "e40ccaa3",
   "metadata": {},
   "outputs": [
    {
     "data": {
      "text/plain": [
       "252"
      ]
     },
     "execution_count": 3,
     "metadata": {},
     "output_type": "execute_result"
    }
   ],
   "source": [
    "# Number of ways of selecting 5 cups form 10.\n",
    "math.comb(10, 5)"
   ]
  },
  {
   "cell_type": "code",
   "execution_count": 4,
   "id": "15340230",
   "metadata": {},
   "outputs": [
    {
     "data": {
      "text/plain": [
       "0.003968253968253968"
      ]
     },
     "execution_count": 4,
     "metadata": {},
     "output_type": "execute_result"
    }
   ],
   "source": [
    "# Probability of randomly selecting correct 5 cups is:\n",
    "1.0 / math.comb(10, 5)"
   ]
  },
  {
   "cell_type": "markdown",
   "id": "44e30fa2",
   "metadata": {},
   "source": [
    "So, if the experiment was done with 10 cups total, five with milk in first and five with tea in first, then the chance of  randomly selecting correctly is much less than 1%."
   ]
  },
  {
   "cell_type": "markdown",
   "id": "dacbae2a",
   "metadata": {},
   "source": [
    "We could design the experiment to have 9 cups in total, with 4 with milk in first and 5 with tea in first - or vice versa. "
   ]
  },
  {
   "cell_type": "code",
   "execution_count": 5,
   "id": "f2ba2749",
   "metadata": {},
   "outputs": [
    {
     "data": {
      "text/plain": [
       "126"
      ]
     },
     "execution_count": 5,
     "metadata": {},
     "output_type": "execute_result"
    }
   ],
   "source": [
    "# Number of ways of selecting 4 cups from 9. \n",
    "math.comb(9, 4)"
   ]
  },
  {
   "cell_type": "code",
   "execution_count": 6,
   "id": "e8931672",
   "metadata": {},
   "outputs": [
    {
     "data": {
      "text/plain": [
       "126"
      ]
     },
     "execution_count": 6,
     "metadata": {},
     "output_type": "execute_result"
    }
   ],
   "source": [
    "# Number of ways of selecting 5 cups from 9:\n",
    "math.comb(9, 5)"
   ]
  },
  {
   "cell_type": "markdown",
   "id": "bd048bab",
   "metadata": {},
   "source": [
    "Both have the same number of ways of selecting cups. This is because the two groups of choices remain the same, just in a different order. Therefore, the outcome will have the same number of ways of selecting cups regardless of the which group selects first. \n",
    "<br>"
   ]
  },
  {
   "cell_type": "code",
   "execution_count": 7,
   "id": "736a0ef4",
   "metadata": {},
   "outputs": [
    {
     "data": {
      "text/plain": [
       "0.007936507936507936"
      ]
     },
     "execution_count": 7,
     "metadata": {},
     "output_type": "execute_result"
    }
   ],
   "source": [
    "# The probability is then:\n",
    "1.0 / math.comb(9, 4)"
   ]
  },
  {
   "cell_type": "markdown",
   "id": "f3b92cdc",
   "metadata": {},
   "source": [
    "This example is also less than 1%.\n",
    "<br>\n",
    "<br>\n",
    "<h4 style=\"color: #001a79;\">However,  the question is what is the minimun number of cups required to ensure the probability of randomly selecting the correct one is less than or equal to 1%. </h4>\n",
    "<br>\n",
    "The answer would depend on the sample size. Take the below cells, The probability of selecting 5 cups from 10 correctly is less than 1%. The probability of selecting 3 cups from 9 is about  1.1% and selecting 4 cups of 8 correctly is about 1.4%. <br>\n",
    "\n",
    "My theory is that the higher the sample size, leads to more ways of selecting cups, which in turn leads to a lower probability of selecting correctly. Therefore, if we wanted to ensure a <=1% chance of choosing correctly I would go with a sample of 10. There are more possibilities which in turn creates a lower probability of choosing correctly. \n",
    "<br>"
   ]
  },
  {
   "cell_type": "code",
   "execution_count": 8,
   "id": "730960d9",
   "metadata": {},
   "outputs": [
    {
     "data": {
      "text/plain": [
       "(252, 0.003968253968253968)"
      ]
     },
     "execution_count": 8,
     "metadata": {},
     "output_type": "execute_result"
    }
   ],
   "source": [
    "# Number of ways of selecting 5 cups from 10.\n",
    "a = math.comb(10, 5)\n",
    "\n",
    "# Probability of randomly selecting correctly.\n",
    "b = 1.0 / a\n",
    "\n",
    "a, b"
   ]
  },
  {
   "cell_type": "code",
   "execution_count": 9,
   "id": "d2343b8d",
   "metadata": {},
   "outputs": [
    {
     "data": {
      "text/plain": [
       "(84, 0.011904761904761904)"
      ]
     },
     "execution_count": 9,
     "metadata": {},
     "output_type": "execute_result"
    }
   ],
   "source": [
    "# Number of ways of selecting 3 cups from 9.\n",
    "c = math.comb(9, 3)\n",
    "\n",
    "# Probability of randomly selecting correctly.\n",
    "d = 1 / c\n",
    "\n",
    "c, d"
   ]
  },
  {
   "cell_type": "code",
   "execution_count": 10,
   "id": "e9c54822",
   "metadata": {},
   "outputs": [
    {
     "data": {
      "text/plain": [
       "(70, 0.014285714285714285)"
      ]
     },
     "execution_count": 10,
     "metadata": {},
     "output_type": "execute_result"
    }
   ],
   "source": [
    "# Number of ways of selecting 4 cups from 8.\n",
    "e = math.comb(8, 4)\n",
    "\n",
    "# Probability of randomly selecting correctly.\n",
    "f = 1 / e\n",
    "\n",
    "e, f"
   ]
  },
  {
   "cell_type": "markdown",
   "id": "8bf08dc4",
   "metadata": {},
   "source": [
    "<hr style=\"border-top: 1px solid #001a79;\" />\n",
    "<br>\n",
    "<h3 style=\"color: #001a79;\">Exercise 1.2</h3>\n",
    "\n",
    "<hr style=\"border-top: 1px solid #001a79;\" />\n",
    "\n",
    "__Bonus Task:__\n",
    "<br>\n",
    "\n",
    "- How many would be required if you were to let the taster get one cup wrong while maintaining the 1% threshold?"
   ]
  },
  {
   "cell_type": "code",
   "execution_count": 11,
   "id": "6d39e8be",
   "metadata": {},
   "outputs": [
    {
     "data": {
      "text/plain": [
       "(210, 0.004761904761904762)"
      ]
     },
     "execution_count": 11,
     "metadata": {},
     "output_type": "execute_result"
    }
   ],
   "source": [
    "# Number of ways of selecting. \n",
    "a = math.comb(10, (5-1))\n",
    "\n",
    "# Probability of randomly selecting correctly after getting one wrong.\n",
    "b = 1.0 / a\n",
    "\n",
    "a, b"
   ]
  },
  {
   "cell_type": "markdown",
   "id": "fa7a3b63",
   "metadata": {},
   "source": [
    "My answer is to continue to use a sample of 10 while deducting the \"wrong answer\". As we can see there are still 210 ways of selecting 4 cups from 10 after getting one wrong which is still producing a less than 1% probibility of choosing the rest correctly. \n",
    "<br>"
   ]
  },
  {
   "cell_type": "markdown",
   "id": "4589de55",
   "metadata": {},
   "source": [
    "<hr style=\"border-top: 1px solid #001a79;\" />\n",
    "<br>\n",
    "<h3 style=\"color: #001a79;\">Exercise 1.3</h3>\n",
    "<hr style=\"border-top: 1px solid #001a79;\" />\n",
    "\n",
    "__Task:__\n",
    "<br>\n",
    "\n",
    "- Use <a href=\"https://docs.scipy.org/doc/scipy/reference/generated/scipy.stats.fisher_exact.html\" style=\"color: #ff791e\">scipy's version of Fisher's exact test</a> to simulate the Lady Tasting Tea problem.\n",
    "<br>"
   ]
  },
  {
   "cell_type": "code",
   "execution_count": 12,
   "id": "709b59b8",
   "metadata": {},
   "outputs": [],
   "source": [
    "# Statistical methods. \n",
    "import scipy.stats as ss"
   ]
  },
  {
   "cell_type": "code",
   "execution_count": 13,
   "id": "f3a4ac03",
   "metadata": {},
   "outputs": [
    {
     "data": {
      "text/plain": [
       "<function scipy.stats.stats.fisher_exact(table, alternative='two-sided')>"
      ]
     },
     "execution_count": 13,
     "metadata": {},
     "output_type": "execute_result"
    }
   ],
   "source": [
    "# We can see the syntax of this function takes in a two sided table.\n",
    "ss.fisher_exact"
   ]
  },
  {
   "cell_type": "markdown",
   "id": "a2cf0210",
   "metadata": {},
   "source": [
    "The desired outcome is:\n",
    "<br>\n",
    "\n",
    "*0.014285714285714285*"
   ]
  },
  {
   "cell_type": "code",
   "execution_count": 14,
   "id": "6bf30935",
   "metadata": {},
   "outputs": [
    {
     "data": {
      "text/plain": [
       "(inf, 0.028571428571428536)"
      ]
     },
     "execution_count": 14,
     "metadata": {},
     "output_type": "execute_result"
    }
   ],
   "source": [
    "# Testing on a sample table.\n",
    "ss.fisher_exact([[4, 0], [0, 4]])"
   ]
  },
  {
   "cell_type": "code",
   "execution_count": 15,
   "id": "2d57e5b5",
   "metadata": {},
   "outputs": [
    {
     "data": {
      "text/plain": [
       "0.02857142857142857"
      ]
     },
     "execution_count": 15,
     "metadata": {},
     "output_type": "execute_result"
    }
   ],
   "source": [
    "# Desired outcome double is almost the same as fisher's exact test. \n",
    "0.014285714285714285 * 2"
   ]
  },
  {
   "cell_type": "code",
   "execution_count": 16,
   "id": "1d18b4c7",
   "metadata": {},
   "outputs": [
    {
     "data": {
      "text/plain": [
       "0.014285714285714268"
      ]
     },
     "execution_count": 16,
     "metadata": {},
     "output_type": "execute_result"
    }
   ],
   "source": [
    "# Testing again with added parameter. \n",
    "table = [[4, 0], [0, 4]]\n",
    "oddsr, p = ss.fisher_exact(table, alternative='greater')\n",
    "p"
   ]
  },
  {
   "cell_type": "markdown",
   "id": "e9bec424",
   "metadata": {},
   "source": [
    "This piece of code has given the exact answer by using the parameter *alternative='greater'*. This is an optional parameter that gives odds for the probability being greater than one. "
   ]
  },
  {
   "cell_type": "markdown",
   "id": "0baeec01",
   "metadata": {},
   "source": [
    "In other words, the fisher exact method is used to determine if there is a significant association between two variables. The variables are either independent or they're not. What this code means is there is less than 1% chance of the probabilty being greater than 1. "
   ]
  },
  {
   "cell_type": "markdown",
   "id": "138f4842",
   "metadata": {},
   "source": [
    "I found two interesting blog posts which explains the fisher_exact method which I found helpful to understand the statistical aspect of the experiment. They can be found here: \n",
    "<br>\n",
    "\n",
    "* https://towardsdatascience.com/fishers-exact-test-from-scratch-with-python-2b907f29e593\n",
    "<br>\n",
    "\n",
    "* https://www.statology.org/fishers-exact-test/#:~:text=Fisher%27s%20Exact%20Test%20is%20used,table%20is%20less%20than%205\n",
    "<br>"
   ]
  },
  {
   "cell_type": "markdown",
   "id": "5080231a",
   "metadata": {},
   "source": [
    "<hr style=\"border-top: 1px solid #001a79;\" />\n",
    "<br>\n",
    "<h3 style=\"color: #001a79;\">Exercise 1.4</h3>\n",
    "<hr style=\"border-top: 1px solid #001a79;\" />\n",
    "\n",
    "__Task:__\n",
    "<br>\n",
    "\n",
    "- Take the code from the <a href=\"https://docs.scipy.org/doc/scipy/reference/generated/scipy.stats.ttest_ind.html\" style=\"color: #ff791e\">Examples section of the scipy stats documentation for independent samples t-tests</a>, add it to your own notebook and add explain how it works using MarkDown cells and code comments. Improve it in any way you think it could be improved."
   ]
  },
  {
   "cell_type": "code",
   "execution_count": 17,
   "id": "831d8d5c",
   "metadata": {},
   "outputs": [],
   "source": [
    "# For numerical arrays.\n",
    "import numpy as np\n",
    "\n",
    "# Using rng as reccommended to generate random default float as state. \n",
    "rng = np.random.default_rng()\n",
    "\n",
    "# For statistical functions.\n",
    "from scipy import stats"
   ]
  },
  {
   "cell_type": "code",
   "execution_count": 18,
   "id": "18c15d1e",
   "metadata": {},
   "outputs": [
    {
     "data": {
      "text/plain": [
       "Ttest_indResult(statistic=0.008987947092030064, pvalue=0.9928305486109621)"
      ]
     },
     "execution_count": 18,
     "metadata": {},
     "output_type": "execute_result"
    }
   ],
   "source": [
    "# Test with a sample with identical means:\n",
    "# Note the random state is set as reccommended. \n",
    "\n",
    "# Norm.rvs to calculate the noraml distribution\n",
    "rvs1 = stats.norm.rvs(loc=5, scale=10, size=500, random_state=rng)\n",
    "rvs2 = stats.norm.rvs(loc=5, scale=10, size=500, random_state=rng)\n",
    "\n",
    "# ttest_ind \n",
    "stats.ttest_ind(rvs1, rvs2)"
   ]
  },
  {
   "cell_type": "markdown",
   "id": "08fcd76f",
   "metadata": {},
   "source": [
    "What this means is that scipy stats norm is used to analyze the normal distribution. Within this module there are various methods. One of these is rvs. Rvs returns random varieties. In other words, this stats.norm.rvs method has randomly generated values which were instances of normal distribution. This is calculated using the mean and standard deviation which in this example is 5 and 10 respectively. The size is referring to the size of the output array ie. output array would contain 500 values. \n",
    "<br>\n",
    "\n",
    "Explaination found here: https://www.delftstack.com/api/scipy/scipy-scipy.stats.norm-method/\n",
    "<br>"
   ]
  },
  {
   "cell_type": "markdown",
   "id": "2b5e8cb1",
   "metadata": {},
   "source": [
    "Moreover, the stats.ttest_ind is used. The offical documentationa around scipy stats is quite comprehensive in my opinion, however, after reviewing it I found a good comment regarding t-tests:\n",
    "<br>\n",
    "\n",
    "*The t-test quantifies the difference between the arithmetic means of the two samples*\n",
    "<br>\n",
    "\n",
    "In a nutshell, a t-test calculates the means of two independent samples. In this example, we already determined the mean and standard deviation and recieved random varieties from the stats.norm.rvs method. Now, we are passing these two variables into the t-test. \n",
    "<br>"
   ]
  },
  {
   "cell_type": "code",
   "execution_count": 19,
   "id": "18e6d89f",
   "metadata": {},
   "outputs": [
    {
     "data": {
      "text/plain": [
       "Ttest_indResult(statistic=0.008987947092030064, pvalue=0.9928305487386876)"
      ]
     },
     "execution_count": 19,
     "metadata": {},
     "output_type": "execute_result"
    }
   ],
   "source": [
    "stats.ttest_ind(rvs1, rvs2, equal_var=False)"
   ]
  },
  {
   "cell_type": "markdown",
   "id": "d77604cb",
   "metadata": {},
   "source": [
    "In the next example there is an option parameter present. Basically, if True it will perform the t-test asssuming equal population variances. This is the default option. Otherwise, if false, it performs a Welch’s t-test. This is a t-test but with unequal variances. In other words, there are unequal sample sizes. This may be useful if for example we were testing a sample of 9 - the two independent samples have different sizes as one may be 5 and the other 4. Thus, these samples would not have normal distribution. This can be seen when comparing the results of this cell to the one previous where the t-test used the default paramater of True suggesting normal distribution of samples. \n",
    "<br>\n",
    "\n",
    "Wikipedia for the Welch’s t-test found here: https://en.wikipedia.org/wiki/Welch%27s_t-test"
   ]
  },
  {
   "cell_type": "code",
   "execution_count": 20,
   "id": "27f7bcb2",
   "metadata": {},
   "outputs": [
    {
     "data": {
      "text/plain": [
       "Ttest_indResult(statistic=0.008987947092030064, pvalue=0.993)"
      ]
     },
     "execution_count": 20,
     "metadata": {},
     "output_type": "execute_result"
    }
   ],
   "source": [
    "# Another example of a t-test.\n",
    "stats.ttest_ind(rvs1, rvs2, permutations=10000, random_state=rng)"
   ]
  },
  {
   "cell_type": "markdown",
   "id": "2043630d",
   "metadata": {},
   "source": [
    "This is another example of the t-test except the size now reffered to as permutations is a lot larger than the previous examples. The documentation explains that more permutations returns more accurate results. This may be because a larger sample can give more results which can be analyzed on a larger scale giving a clear picture of results. \n",
    "<br>"
   ]
  },
  {
   "cell_type": "code",
   "execution_count": 21,
   "id": "8a957228",
   "metadata": {},
   "outputs": [
    {
     "data": {
      "text/plain": [
       "Ttest_indResult(statistic=3.4463884028073513, pvalue=0.01369338726499547)"
      ]
     },
     "execution_count": 21,
     "metadata": {},
     "output_type": "execute_result"
    }
   ],
   "source": [
    "# Passing in values instead of using numpy to generate. \n",
    "a = (56, 128.6, 12, 123.8, 64.34, 78, 763.3)\n",
    "b = (1.1, 2.9, 4.2)\n",
    "\n",
    "# Doing a t-test without getting normal distribution. \n",
    "stats.ttest_ind(a, b, trim=.2)"
   ]
  },
  {
   "cell_type": "markdown",
   "id": "1275584a",
   "metadata": {},
   "source": [
    "<h4 style=\"color: #001a79;\">Conclusion</h4>\n",
    "\n",
    "<br>\n",
    "\n",
    "A t-test is a statistical test. It is used to analyze the means of two samples or the mean and standard deviation of two samples. It is a test for the null hypothesis that two independent samples have the same average values. \n",
    "<br>"
   ]
  },
  {
   "cell_type": "markdown",
   "id": "a175ef6c",
   "metadata": {},
   "source": [
    "<hr style=\"border-top: 1px solid #001a79;\" />\n",
    "\n",
    "<h3 style=\"color: #001a79;\">End</h3>"
   ]
  }
 ],
 "metadata": {
  "kernelspec": {
   "display_name": "Python 3 (ipykernel)",
   "language": "python",
   "name": "python3"
  },
  "language_info": {
   "codemirror_mode": {
    "name": "ipython",
    "version": 3
   },
   "file_extension": ".py",
   "mimetype": "text/x-python",
   "name": "python",
   "nbconvert_exporter": "python",
   "pygments_lexer": "ipython3",
   "version": "3.9.12"
  }
 },
 "nbformat": 4,
 "nbformat_minor": 5
}
